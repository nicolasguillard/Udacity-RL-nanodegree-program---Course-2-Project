{
 "cells": [
  {
   "cell_type": "code",
   "execution_count": 4,
   "metadata": {},
   "outputs": [
    {
     "name": "stdout",
     "output_type": "stream",
     "text": [
      "1 2 -1 -2\n",
      "1 2 3 -2\n",
      "1 2 3 4\n"
     ]
    }
   ],
   "source": [
    "def f1(a, b, c=-1, d=-2):\n",
    "    print(a, b, c, d)\n",
    "\n",
    "def f2(a, b, f1_args):\n",
    "    f1(a, b, **f1_args)\n",
    "\n",
    "f1(1, 2)\n",
    "f2(1, 2, {'c': 3})\n",
    "f2(1, 2, {'c': 3, 'd': 4})"
   ]
  },
  {
   "cell_type": "code",
   "execution_count": null,
   "metadata": {},
   "outputs": [],
   "source": []
  }
 ],
 "metadata": {
  "kernelspec": {
   "display_name": "udacity_cnn_project",
   "language": "python",
   "name": "python3"
  },
  "language_info": {
   "codemirror_mode": {
    "name": "ipython",
    "version": 3
   },
   "file_extension": ".py",
   "mimetype": "text/x-python",
   "name": "python",
   "nbconvert_exporter": "python",
   "pygments_lexer": "ipython3",
   "version": "3.11.8"
  }
 },
 "nbformat": 4,
 "nbformat_minor": 2
}
